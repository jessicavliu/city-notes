{
 "cells": [
  {
   "cell_type": "code",
   "execution_count": 1,
   "metadata": {},
   "outputs": [
    {
     "name": "stderr",
     "output_type": "stream",
     "text": [
      "Using TensorFlow backend.\n"
     ]
    }
   ],
   "source": [
    "from __future__ import division\n",
    "from keras.models import Sequential\n",
    "from keras.layers.core import Dense, Activation, Dropout\n",
    "from keras.layers.recurrent import LSTM\n",
    "from keras.models import model_from_json\n",
    "import numpy as np\n",
    "import random"
   ]
  },
  {
   "cell_type": "code",
   "execution_count": 4,
   "metadata": {},
   "outputs": [],
   "source": [
    "def sample(a, temperature=1.0):\n",
    "    # helper function to sample an index from a probability array\n",
    "    a = np.log(a) / temperature\n",
    "    a = np.exp(a) / np.sum(np.exp(a))\n",
    "    if sum(a) > 1.0:  # occasionally getting 1.00000X, so handling for that\n",
    "        a *= .999\n",
    "    return np.argmax(np.random.multinomial(1, a, 1))"
   ]
  },
  {
   "cell_type": "code",
   "execution_count": 10,
   "metadata": {},
   "outputs": [],
   "source": [
    "def train(path_corpus, path_model, path_weights):\n",
    "    \"\"\"trains the LSTM model on text corpora\"\"\"\n",
    "\n",
    "    path = path_corpus\n",
    "\n",
    "    try:\n",
    "        text = open(path).read().lower()\n",
    "    except UnicodeDecodeError:\n",
    "        import codecs\n",
    "        text = codecs.open(path, encoding='utf-8').read().lower()\n",
    "\n",
    "    print('corpus length:', len(text))\n",
    "\n",
    "    chars = set(text)\n",
    "    words = set(text.split())\n",
    "\n",
    "    print(\"total number of unique words\", len(words))\n",
    "    print(\"total number of unique chars\", len(chars))\n",
    "\n",
    "    word_indices = dict((c, i) for i, c in enumerate(words))\n",
    "    indices_word = dict((i, c) for i, c in enumerate(words))\n",
    "\n",
    "    maxlen = 30\n",
    "    step = 3\n",
    "\n",
    "    print (\"maxlen:\", maxlen,\"step:\", step)\n",
    "\n",
    "    sentences = []\n",
    "    next_words = []\n",
    "    next_words = []\n",
    "    list_words = []\n",
    "\n",
    "    sentences2 = []\n",
    "    list_words = text.lower().split()\n",
    "\n",
    "\n",
    "    for i in range(0, len(list_words) - maxlen, step):\n",
    "        sentences2 = ' '.join(list_words[i: i + maxlen])\n",
    "        sentences.append(sentences2)\n",
    "        next_words.append((list_words[i + maxlen]))\n",
    "\n",
    "    print ('length of sentence list:', len(sentences))\n",
    "    print (\"length of next_word list\", len(next_words))\n",
    "\n",
    "    print('Vectorization...')\n",
    "    X = np.zeros((len(sentences), maxlen, len(words)), dtype=np.bool)\n",
    "    y = np.zeros((len(sentences), len(words)), dtype=np.bool)\n",
    "    for i, sentence in enumerate(sentences):\n",
    "        for t, word in enumerate(sentence.split()):\n",
    "            X[i, t, word_indices[word]] = 1\n",
    "        y[i, word_indices[next_words[i]]] = 1\n",
    "\n",
    "\n",
    "    #build the model: 2 stacked LSTM\n",
    "\n",
    "    print('Building model...')\n",
    "\n",
    "    model = Sequential()\n",
    "    model.add(LSTM(512, return_sequences=True, input_shape=(maxlen, len(words))))\n",
    "    model.add(Dropout(0.2))\n",
    "    model.add(LSTM(512, return_sequences=False))\n",
    "    model.add(Dropout(0.2))\n",
    "    model.add(Dense(len(words)))\n",
    "    model.add(Activation('softmax'))\n",
    "\n",
    "    model.compile(loss='categorical_crossentropy', optimizer='rmsprop')\n",
    "\n",
    "    try:\n",
    "        model.load_weights(path_weights)\n",
    "    except Exception as e:\n",
    "        print(e)\n",
    "        pass\n",
    "\n",
    "    # train the model, output generated text after each iteration\n",
    "\n",
    "    for iteration in range(1, 750):\n",
    "        print('-' * 50)\n",
    "        print('Iteration', iteration)\n",
    "\n",
    "        model.fit(X, y, batch_size=500, nb_epoch=3)\n",
    "        json_string = model.to_json()\n",
    "        with open(path_model, 'w') as f:\n",
    "            f.write(json_string)\n",
    "        model.save_weights(path_weights, overwrite=True)\n"
   ]
  },
  {
   "cell_type": "code",
   "execution_count": 11,
   "metadata": {},
   "outputs": [],
   "source": [
    "def generate_from_word_level_rnn(path_corpus, path_weights, maxlen=30, diversity=1.0, min_sent_len=10, max_sent_len=65):\n",
    "    with open(path_corpus, \"r\") as f:\n",
    "        text = f.read().lower().split()[:4940]\n",
    "    words = set(text)\n",
    "    start_index = random.randint(0, len(text) - maxlen - 1)\n",
    "    word_indices = dict((c, i) for i, c in enumerate(words))\n",
    "    indices_word = dict((i, c) for i, c in enumerate(words))\n",
    "\n",
    "    response = \"\"\n",
    "    model = model_from_json(open(path_corpus).read())\n",
    "    model.load_weights(path_weights)\n",
    "    model.compile(loss='categorical_crossentropy', optimizer='rmsprop')\n",
    "    sentence = text[start_index: start_index + maxlen]\n",
    "\n",
    "    for i in range(random.randint(min_sent_len, max_sent_len)):\n",
    "        x = np.zeros((1, maxlen, len(words)))\n",
    "        for t, word in enumerate(sentence):\n",
    "            x[0, t, word_indices[word]] = 1.\n",
    "        preds = model.predict(x, verbose=0)[0]\n",
    "        next_index = sample(preds, diversity)\n",
    "        next_word = indices_word[next_index]\n",
    "        if not response:\n",
    "            response += ' {0}'.format(next_word)\n",
    "        else:\n",
    "            if response.split()[-1] != next_word:\n",
    "                response += ' {0}'.format(next_word)\n",
    "        del sentence[0]\n",
    "        sentence.append(next_word)\n",
    "    return response"
   ]
  },
  {
   "cell_type": "code",
   "execution_count": null,
   "metadata": {},
   "outputs": [],
   "source": [
    "### to load this model elsewhere... ###\n",
    "\n",
    "# from keras.models import model_from_json\n",
    "\n",
    "# model = model_from_json(open('<path to your saved model architecture>').read())\n",
    "# model.load_weights('<path to your saved weights>')\n",
    "# model.compile(loss='categorical_crossentropy', optimizer='rmsprop')"
   ]
  },
  {
   "cell_type": "code",
   "execution_count": 12,
   "metadata": {},
   "outputs": [
    {
     "name": "stdout",
     "output_type": "stream",
     "text": [
      "corpus length: 121559783\n",
      "total number of unique words 734482\n",
      "total number of unique chars 308\n",
      "maxlen: 30 step: 3\n",
      "length of sentence list: 7320004\n",
      "length of next_word list 7320004\n",
      "Vectorization...\n"
     ]
    },
    {
     "ename": "MemoryError",
     "evalue": "",
     "output_type": "error",
     "traceback": [
      "\u001b[0;31m---------------------------------------------------------------------------\u001b[0m",
      "\u001b[0;31mMemoryError\u001b[0m                               Traceback (most recent call last)",
      "\u001b[0;32m<ipython-input-12-d7ed7a094a91>\u001b[0m in \u001b[0;36m<module>\u001b[0;34m()\u001b[0m\n\u001b[1;32m      3\u001b[0m \u001b[0mpath_weights\u001b[0m \u001b[0;34m=\u001b[0m \u001b[0;34m'poetry_weights.txt'\u001b[0m\u001b[0;34m\u001b[0m\u001b[0m\n\u001b[1;32m      4\u001b[0m \u001b[0;34m\u001b[0m\u001b[0m\n\u001b[0;32m----> 5\u001b[0;31m \u001b[0mtrain\u001b[0m\u001b[0;34m(\u001b[0m\u001b[0mpath_corpus\u001b[0m\u001b[0;34m,\u001b[0m \u001b[0mpath_model\u001b[0m\u001b[0;34m,\u001b[0m \u001b[0mpath_weights\u001b[0m\u001b[0;34m)\u001b[0m\u001b[0;34m\u001b[0m\u001b[0m\n\u001b[0m\u001b[1;32m      6\u001b[0m \u001b[0mgenerate_from_word_level_rnn\u001b[0m\u001b[0;34m(\u001b[0m\u001b[0mpath_corpus\u001b[0m\u001b[0;34m,\u001b[0m \u001b[0mpath_weights\u001b[0m\u001b[0;34m)\u001b[0m\u001b[0;34m\u001b[0m\u001b[0m\n",
      "\u001b[0;32m<ipython-input-10-b9b2f44259da>\u001b[0m in \u001b[0;36mtrain\u001b[0;34m(path_corpus, path_model, path_weights)\u001b[0m\n\u001b[1;32m     44\u001b[0m \u001b[0;34m\u001b[0m\u001b[0m\n\u001b[1;32m     45\u001b[0m     \u001b[0mprint\u001b[0m\u001b[0;34m(\u001b[0m\u001b[0;34m'Vectorization...'\u001b[0m\u001b[0;34m)\u001b[0m\u001b[0;34m\u001b[0m\u001b[0m\n\u001b[0;32m---> 46\u001b[0;31m     \u001b[0mX\u001b[0m \u001b[0;34m=\u001b[0m \u001b[0mnp\u001b[0m\u001b[0;34m.\u001b[0m\u001b[0mzeros\u001b[0m\u001b[0;34m(\u001b[0m\u001b[0;34m(\u001b[0m\u001b[0mlen\u001b[0m\u001b[0;34m(\u001b[0m\u001b[0msentences\u001b[0m\u001b[0;34m)\u001b[0m\u001b[0;34m,\u001b[0m \u001b[0mmaxlen\u001b[0m\u001b[0;34m,\u001b[0m \u001b[0mlen\u001b[0m\u001b[0;34m(\u001b[0m\u001b[0mwords\u001b[0m\u001b[0;34m)\u001b[0m\u001b[0;34m)\u001b[0m\u001b[0;34m,\u001b[0m \u001b[0mdtype\u001b[0m\u001b[0;34m=\u001b[0m\u001b[0mnp\u001b[0m\u001b[0;34m.\u001b[0m\u001b[0mbool\u001b[0m\u001b[0;34m)\u001b[0m\u001b[0;34m\u001b[0m\u001b[0m\n\u001b[0m\u001b[1;32m     47\u001b[0m     \u001b[0my\u001b[0m \u001b[0;34m=\u001b[0m \u001b[0mnp\u001b[0m\u001b[0;34m.\u001b[0m\u001b[0mzeros\u001b[0m\u001b[0;34m(\u001b[0m\u001b[0;34m(\u001b[0m\u001b[0mlen\u001b[0m\u001b[0;34m(\u001b[0m\u001b[0msentences\u001b[0m\u001b[0;34m)\u001b[0m\u001b[0;34m,\u001b[0m \u001b[0mlen\u001b[0m\u001b[0;34m(\u001b[0m\u001b[0mwords\u001b[0m\u001b[0;34m)\u001b[0m\u001b[0;34m)\u001b[0m\u001b[0;34m,\u001b[0m \u001b[0mdtype\u001b[0m\u001b[0;34m=\u001b[0m\u001b[0mnp\u001b[0m\u001b[0;34m.\u001b[0m\u001b[0mbool\u001b[0m\u001b[0;34m)\u001b[0m\u001b[0;34m\u001b[0m\u001b[0m\n\u001b[1;32m     48\u001b[0m     \u001b[0;32mfor\u001b[0m \u001b[0mi\u001b[0m\u001b[0;34m,\u001b[0m \u001b[0msentence\u001b[0m \u001b[0;32min\u001b[0m \u001b[0menumerate\u001b[0m\u001b[0;34m(\u001b[0m\u001b[0msentences\u001b[0m\u001b[0;34m)\u001b[0m\u001b[0;34m:\u001b[0m\u001b[0;34m\u001b[0m\u001b[0m\n",
      "\u001b[0;31mMemoryError\u001b[0m: "
     ]
    }
   ],
   "source": [
    "path_corpus = 'poetry.txt'\n",
    "path_model = 'poetry_model.txt'\n",
    "path_weights = 'poetry_weights.txt'\n",
    "\n",
    "train(path_corpus, path_model, path_weights)\n",
    "generate_from_word_level_rnn(path_corpus, path_weights)"
   ]
  },
  {
   "cell_type": "code",
   "execution_count": null,
   "metadata": {},
   "outputs": [],
   "source": []
  }
 ],
 "metadata": {
  "kernelspec": {
   "display_name": "Python 3",
   "language": "python",
   "name": "python3"
  },
  "language_info": {
   "codemirror_mode": {
    "name": "ipython",
    "version": 3
   },
   "file_extension": ".py",
   "mimetype": "text/x-python",
   "name": "python",
   "nbconvert_exporter": "python",
   "pygments_lexer": "ipython3",
   "version": "3.6.1"
  }
 },
 "nbformat": 4,
 "nbformat_minor": 2
}
