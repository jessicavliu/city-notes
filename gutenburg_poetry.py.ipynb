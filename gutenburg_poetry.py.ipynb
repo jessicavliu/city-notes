{
 "cells": [
  {
   "cell_type": "code",
   "execution_count": 1,
   "metadata": {},
   "outputs": [],
   "source": [
    "from fuzzywuzzy import fuzz\n",
    "from fuzzywuzzy import process\n",
    "import os\n",
    "import json\n",
    "import random"
   ]
  },
  {
   "cell_type": "code",
   "execution_count": 2,
   "metadata": {},
   "outputs": [],
   "source": [
    "all_lines = []\n",
    "for line in open('gutenberg-poetry-v001.ndjson'):\n",
    "    all_lines.append(json.loads(line.strip())['s'])"
   ]
  },
  {
   "cell_type": "code",
   "execution_count": 19,
   "metadata": {},
   "outputs": [
    {
     "name": "stdout",
     "output_type": "stream",
     "text": [
      "adventuring and pioneering along the path of future progress.\n",
      "The stupid and the smart.\n",
      "In vain your knuckles knock your brow,\n",
      "The whole of RAGLEY'S beauteous Dame--\n",
      "With Epicurus all his followers,\n",
      "Torrent onward rushes frantic\n",
      "Children grew to kings and sages.\n",
      "Such and so monstrous let thy swain appear,\n",
      "Crowned Mind and nothing more,\n",
      "Whate'er pursuits my time employ,\n",
      "Tim Whiffler may yet prove a Tartar,\n",
      "They could not choose but trust\n",
      "On an Arabian mule is placed, and so\n",
      "Sic obiit Lycidas, sic assurrexit in altum;\n",
      "Kullervo, Kalervo's offspring,\n",
      "Thy sleep makes ridiculous.\n",
      "Tell him he's got to fix the Tree\n",
      "A shepherd-swain, a man of low degree;\n",
      "man, marry whom thou wilt and leave thine own house.\"\n",
      "To sit in meekness, like the brooding Dove,\n",
      "Like pure burnished gold.\n",
      "By small necessities of barest use\n",
      "But ah, what error spreads its dreadful night,\n",
      "The message of his lord he gave:\n",
      "And always sing and talk to me.\n",
      "But there's no martyr wrapt in HER rose flesh.\n",
      "Let every head be bowed,\n",
      "Of Nisus? I, who should have gained the very victory's crown,\n",
      "For Deity offended!\n",
      "Or as blood burns again\n",
      "And chased the untimely shades; bright beam'd the sun\n",
      "Each at each, a crouching beast,\n",
      "How they chatter!\n"
     ]
    }
   ],
   "source": [
    "#print(all_lines[10000:10010])\n",
    "num_words = 33\n",
    "for i in range(num_words):\n",
    "    print(all_lines[random.randint(0, len(all_lines))])"
   ]
  },
  {
   "cell_type": "code",
   "execution_count": null,
   "metadata": {},
   "outputs": [],
   "source": []
  },
  {
   "cell_type": "code",
   "execution_count": null,
   "metadata": {},
   "outputs": [],
   "source": []
  }
 ],
 "metadata": {
  "kernelspec": {
   "display_name": "Python 3",
   "language": "python",
   "name": "python3"
  },
  "language_info": {
   "codemirror_mode": {
    "name": "ipython",
    "version": 3
   },
   "file_extension": ".py",
   "mimetype": "text/x-python",
   "name": "python",
   "nbconvert_exporter": "python",
   "pygments_lexer": "ipython3",
   "version": "3.6.1"
  }
 },
 "nbformat": 4,
 "nbformat_minor": 2
}
