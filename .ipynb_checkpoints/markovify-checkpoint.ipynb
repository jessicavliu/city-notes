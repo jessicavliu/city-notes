{
 "cells": [
  {
   "cell_type": "code",
   "execution_count": 2,
   "metadata": {},
   "outputs": [
    {
     "name": "stdout",
     "output_type": "stream",
     "text": [
      "true\n"
     ]
    }
   ],
   "source": [
    "import markovify\n",
    "\n",
    "# Get raw text as string.\n",
    "with open(\"poetry.txt\", encoding=\"utf-8\") as f:\n",
    "    text = f.read()\n",
    "\n",
    "if \"star\" in text:\n",
    "    print(\"true\")\n",
    "    \n",
    "# Build the model.\n",
    "text_model = markovify.Text(text)\n",
    "model_json = text_model.to_json()\n",
    "# In theory, here you'd save the JSON to disk, and then read it back later.\n",
    "\n",
    "reconstituted_model = markovify.Text.from_json(model_json)"
   ]
  },
  {
   "cell_type": "code",
   "execution_count": 3,
   "metadata": {},
   "outputs": [],
   "source": [
    "import string\n",
    "import re"
   ]
  },
  {
   "cell_type": "code",
   "execution_count": 7,
   "metadata": {},
   "outputs": [
    {
     "name": "stdout",
     "output_type": "stream",
     "text": [
      "Down in a place Could help a world for me!\n"
     ]
    }
   ],
   "source": [
    "#sub pebble with rock, metronome with tick\n",
    "water_arr = [\"surrounded\", \"watched\", \"icy\", \"casting\", \"rising\", \"blood\", \"branch\", \"caught\", \"stone\", \"sank\", \"fell\", \"gravel\", \"controlling\", \"foam\", \"tick\", \"stream\", \"silver\", \"sink\", \"descended\"]\n",
    "\n",
    "#sub toe with foot, collapsed with shatter, tentatively with faltering\n",
    "grass_arr = [\"ash\", \"foot\", \"iron\", \"ring\", \"frost\", \"branch\", \"fairy\", \"gently\", \"hung\", \"table\", \"thin\", \"blanket\", \"underneath\", \"red\", \"rock\", \"tall\",\n",
    "\"shatter\", \"faltering\",\"shoe\", \"dried\"]\n",
    "\n",
    "#sub stalk with stem, peeled with skin, rustle with rustled, envelope with cover, \n",
    "flower_arr = [\"stem\", \"skin\", \"rustled\", \"hung\", \"cover\", \"casting\", \"frost\", \"gravel\", \"parting\", \"gently\", \"folded\", \"sticking\", \"sadness\", \"smoothed\", \"dyed\", \"filled\", \"layer\"]\n",
    "\n",
    "#sub downstairs for down\n",
    "wind_arr = ['pale', 'branch', 'stepped', 'down', 'collapsed', 'air', 'shone', 'rose', 'winter', 'crimson', 'dry', 'slip', 'aside', 'speak', 'brightly']\n",
    "\n",
    "lightning_arr = ['sweep', 'oil', 'on', 'the', 'patch', 'bitterly', 'sparkling', 'divine', 'thread', 'of', 'connection', 'escaping', 'melancholy', 'humid', 'café']\n",
    "\n",
    "\n",
    "#generate a poem from core words\n",
    "def gen_poems(arr, num_poems):\n",
    "    for i in range(num_poems):\n",
    "        print(str(i+1) + \".\")\n",
    "        for bloom in arr:\n",
    "            print(reconstituted_model.make_sentence_with_start(beginning=bloom.capitalize(), strict=\"false\"))\n",
    "        print()\n",
    "\n",
    "def gen_line(word):\n",
    "    print(reconstituted_model.make_sentence_with_start(beginning=word.capitalize(), strict=\"false\"))\n",
    "        \n",
    "num_poems = 5\n",
    "arr = wind_arr\n",
    "gen_line(\"down\")\n",
    "#gen_poems(arr, num_poems)"
   ]
  },
  {
   "cell_type": "code",
   "execution_count": null,
   "metadata": {},
   "outputs": [],
   "source": []
  }
 ],
 "metadata": {
  "kernelspec": {
   "display_name": "Python 3",
   "language": "python",
   "name": "python3"
  },
  "language_info": {
   "codemirror_mode": {
    "name": "ipython",
    "version": 3
   },
   "file_extension": ".py",
   "mimetype": "text/x-python",
   "name": "python",
   "nbconvert_exporter": "python",
   "pygments_lexer": "ipython3",
   "version": "3.6.1"
  }
 },
 "nbformat": 4,
 "nbformat_minor": 2
}
