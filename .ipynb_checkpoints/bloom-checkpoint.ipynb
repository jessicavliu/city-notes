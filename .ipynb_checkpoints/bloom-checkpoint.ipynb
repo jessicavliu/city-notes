{
 "cells": [
  {
   "cell_type": "code",
   "execution_count": 58,
   "metadata": {},
   "outputs": [],
   "source": [
    "from gensim.test.utils import common_texts, get_tmpfile\n",
    "from gensim.models import Word2Vec\n",
    "import gensim\n",
    "import os\n",
    "import nltk.data\n",
    "from nltk.corpus import stopwords\n",
    "import string\n",
    "from nltk.stem import WordNetLemmatizer"
   ]
  },
  {
   "cell_type": "code",
   "execution_count": 29,
   "metadata": {},
   "outputs": [
    {
     "name": "stdout",
     "output_type": "stream",
     "text": [
      "[['human', 'interface', 'computer'], ['survey', 'user', 'computer', 'system', 'response', 'time'], ['eps', 'user', 'interface', 'system'], ['system', 'human', 'system', 'eps'], ['user', 'response', 'time'], ['trees'], ['graph', 'trees'], ['graph', 'minors', 'trees'], ['graph', 'minors', 'survey']]\n"
     ]
    }
   ],
   "source": [
    "print(common_texts)"
   ]
  },
  {
   "cell_type": "code",
   "execution_count": 33,
   "metadata": {},
   "outputs": [],
   "source": [
    "tokenizer = nltk.data.load('tokenizers/punkt/english.pickle')"
   ]
  },
  {
   "cell_type": "code",
   "execution_count": 216,
   "metadata": {},
   "outputs": [
    {
     "name": "stdout",
     "output_type": "stream",
     "text": [
      "vocab size:  7789\n"
     ]
    }
   ],
   "source": [
    "file = open(\"corpus.txt\")\n",
    "data = file.read()\n",
    "file.close()\n",
    "data_lower = data.lower()\n",
    "stop_words = set(stopwords.words('english'))\n",
    "lemmatizer=WordNetLemmatizer()\n",
    "table = str.maketrans('', '', string.punctuation)\n",
    "\n",
    "sentences = tokenizer.tokenize(data_lower)\n",
    "corpus = []\n",
    "vocab = set()\n",
    "for line in sentences:\n",
    "    tokens = nltk.word_tokenize(line.strip())\n",
    "    corpus.append([lemmatizer.lemmatize(token.translate(table)) for token in nltk.word_tokenize(line) if token not in stop_words])\n",
    "    vocab.update(corpus[-1])\n",
    "print(\"vocab size: \" , len(vocab))\n",
    "#print(corpus[20:40])\n",
    "#print('\\n-----\\n'.join(corpus))\n",
    "\n",
    "#i really like my current model, so don't overwrite it! \n",
    "#i also changed the new path to word2vec2 instead of word2vec, just in case\n",
    "#path = get_tmpfile(\"word2vec2.model\")\n",
    "#model = Word2Vec(corpus, size=80, window=5, min_count=3, workers=4, iter=50)\n",
    "#model.save(\"word2vec2.model\")"
   ]
  },
  {
   "cell_type": "code",
   "execution_count": 150,
   "metadata": {},
   "outputs": [],
   "source": [
    "model = Word2Vec.load(\"word2vec.model\")"
   ]
  },
  {
   "cell_type": "code",
   "execution_count": null,
   "metadata": {},
   "outputs": [],
   "source": [
    "#interesting words: water, grass, flower, wind, wave, sun, rain, lightning, storm, star, airborne, warm, \n",
    "#life, dream, wish, bone, brain, heart, spirit\n",
    "word = \"heart\"\n",
    "num_words = 20\n",
    "most_sim = model.wv.most_similar(positive=[word], topn = num_words)\n",
    "most_sim_2 = model.wv.similar_by_vector(model[word], topn=num_words)\n",
    "least_sim = model.wv.most_similar(negative=[word], topn = num_words)\n",
    "print(\"most similar -\")\n",
    "print(most_sim)\n",
    "print(\"least similar -\")\n",
    "print(least_sim)"
   ]
  },
  {
   "cell_type": "code",
   "execution_count": null,
   "metadata": {},
   "outputs": [],
   "source": []
  },
  {
   "cell_type": "code",
   "execution_count": null,
   "metadata": {},
   "outputs": [],
   "source": []
  }
 ],
 "metadata": {
  "kernelspec": {
   "display_name": "Python 3",
   "language": "python",
   "name": "python3"
  },
  "language_info": {
   "codemirror_mode": {
    "name": "ipython",
    "version": 3
   },
   "file_extension": ".py",
   "mimetype": "text/x-python",
   "name": "python",
   "nbconvert_exporter": "python",
   "pygments_lexer": "ipython3",
   "version": "3.6.1"
  }
 },
 "nbformat": 4,
 "nbformat_minor": 2
}
