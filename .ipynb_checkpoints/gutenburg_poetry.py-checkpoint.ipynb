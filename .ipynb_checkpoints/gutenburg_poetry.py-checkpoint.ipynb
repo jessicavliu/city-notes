{
 "cells": [
  {
   "cell_type": "code",
   "execution_count": 18,
   "metadata": {},
   "outputs": [],
   "source": [
    "from fuzzywuzzy import fuzz\n",
    "from fuzzywuzzy import process\n",
    "import os\n",
    "import json\n",
    "import random"
   ]
  },
  {
   "cell_type": "code",
   "execution_count": 12,
   "metadata": {},
   "outputs": [
    {
     "name": "stdout",
     "output_type": "stream",
     "text": [
      "['The Song of Hiawatha is based on the legends and stories of', 'many North American Indian tribes, but especially those of the', 'Ojibway Indians of northern Michigan, Wisconsin, and Minnesota.', 'They were collected by Henry Rowe Schoolcraft, the reknowned', 'Schoolcraft married Jane, O-bah-bahm-wawa-ge-zhe-go-qua (The', 'fur trader, and O-shau-gus-coday-way-qua (The Woman of the Green', 'Prairie), who was a daughter of Waub-o-jeeg (The White Fisher),', 'who was Chief of the Ojibway tribe at La Pointe, Wisconsin.', 'Jane and her mother are credited with having researched,', 'authenticated, and compiled much of the material Schoolcraft']\n"
     ]
    }
   ],
   "source": [
    "all_lines = []\n",
    "for line in open('gutenberg-poetry-v001.ndjson'):\n",
    "    all_lines.append(json.loads(line.strip())['s'])"
   ]
  },
  {
   "cell_type": "code",
   "execution_count": 32,
   "metadata": {},
   "outputs": [
    {
     "name": "stdout",
     "output_type": "stream",
     "text": [
      "The Sleepy People whispered--\n",
      "One thing I remember:\n",
      "pendere aut holerum stare cacuminibus.\n",
      "Yon ambient azure shell, and spring to life,\n",
      "Are Raths of Kings' men, named not now;\n",
      "Land of the brave and free--\n",
      "Who, with burning indignation, and with angry imprecation,\n",
      "And through the hill-gaps sunset light\n",
      "friends, and I pay myself a very high compliment in the manner in\n",
      "All unconscious of their portion\n",
      "Quicken'd the cedars dark,\n",
      "(As mine's the glove he binds to for his tirings)\n",
      "Wildly she spoke, as babble men in dreams,\n",
      "Sang he, also, Tapio friendly,\n",
      "The boy I loved best of all in the school?--\n",
      "\"Should I lead thee to the broad-sea,\n",
      "May the wreaths they have won never wither,\n",
      "Politely reply, Pretty well,\"\n",
      "And already I do see you\n",
      "Let be, full surely shall her grief wax dim\n",
      "groves and walks of Platanes,\" where they took _subdiales\n",
      "Young Ellen stood within the wood\n",
      "Such is th' acquittance render'd back of him,\n",
      "As thogh thei were goddes thre.\n",
      "Cried exulting from the caverns:\n",
      "Which round the sun revolves this vast machine,\n",
      "He ey'd me, with his hands laid his breast bare,\n",
      "Now every yeoman starts abroad\n",
      "The round red sun is the door to go through,\n",
      "Up curls a thin, blue line of smoke.\n",
      "If you really mean to travel to the sea.\n",
      "Else little is he lover.  Those he clasps,\n",
      "I was so old with my mistrust,\n"
     ]
    }
   ],
   "source": [
    "#print(all_lines[10000:10010])\n",
    "num_words = 33\n",
    "for i in range(num_words):\n",
    "    print(all_lines[random.randint(0, len(all_lines))])"
   ]
  },
  {
   "cell_type": "code",
   "execution_count": null,
   "metadata": {},
   "outputs": [],
   "source": []
  }
 ],
 "metadata": {
  "kernelspec": {
   "display_name": "Python 3",
   "language": "python",
   "name": "python3"
  },
  "language_info": {
   "codemirror_mode": {
    "name": "ipython",
    "version": 3
   },
   "file_extension": ".py",
   "mimetype": "text/x-python",
   "name": "python",
   "nbconvert_exporter": "python",
   "pygments_lexer": "ipython3",
   "version": "3.6.1"
  }
 },
 "nbformat": 4,
 "nbformat_minor": 2
}
