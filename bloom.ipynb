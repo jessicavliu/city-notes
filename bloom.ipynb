{
 "cells": [
  {
   "cell_type": "code",
   "execution_count": 329,
   "metadata": {},
   "outputs": [],
   "source": [
    "from gensim.test.utils import common_texts, get_tmpfile\n",
    "from gensim.models import Word2Vec\n",
    "import gensim\n",
    "import os\n",
    "import nltk.data\n",
    "from nltk.corpus import stopwords\n",
    "import string\n",
    "from nltk.stem import WordNetLemmatizer"
   ]
  },
  {
   "cell_type": "code",
   "execution_count": 29,
   "metadata": {},
   "outputs": [
    {
     "name": "stdout",
     "output_type": "stream",
     "text": [
      "[['human', 'interface', 'computer'], ['survey', 'user', 'computer', 'system', 'response', 'time'], ['eps', 'user', 'interface', 'system'], ['system', 'human', 'system', 'eps'], ['user', 'response', 'time'], ['trees'], ['graph', 'trees'], ['graph', 'minors', 'trees'], ['graph', 'minors', 'survey']]\n"
     ]
    }
   ],
   "source": [
    "print(common_texts)"
   ]
  },
  {
   "cell_type": "code",
   "execution_count": 330,
   "metadata": {},
   "outputs": [],
   "source": [
    "tokenizer = nltk.data.load('tokenizers/punkt/english.pickle')"
   ]
  },
  {
   "cell_type": "code",
   "execution_count": 216,
   "metadata": {},
   "outputs": [
    {
     "name": "stdout",
     "output_type": "stream",
     "text": [
      "vocab size:  7789\n"
     ]
    }
   ],
   "source": [
    "file = open(\"corpus.txt\")\n",
    "data = file.read()\n",
    "file.close()\n",
    "data_lower = data.lower()\n",
    "stop_words = set(stopwords.words('english'))\n",
    "lemmatizer=WordNetLemmatizer()\n",
    "table = str.maketrans('', '', string.punctuation)\n",
    "\n",
    "sentences = tokenizer.tokenize(data_lower)\n",
    "corpus = []\n",
    "vocab = set()\n",
    "for line in sentences:\n",
    "    tokens = nltk.word_tokenize(line.strip())\n",
    "    corpus.append([lemmatizer.lemmatize(token.translate(table)) for token in nltk.word_tokenize(line) if token not in stop_words])\n",
    "    vocab.update(corpus[-1])\n",
    "print(\"vocab size: \" , len(vocab))\n",
    "#print(corpus[20:40])\n",
    "#print('\\n-----\\n'.join(corpus))\n",
    "\n",
    "#i really like my current model, so don't overwrite it! \n",
    "#i also changed the new path to word2vec2 instead of word2vec, just in case\n",
    "#path = get_tmpfile(\"word2vec2.model\")\n",
    "#model = Word2Vec(corpus, size=80, window=5, min_count=3, workers=4, iter=50)\n",
    "#model.save(\"word2vec2.model\")"
   ]
  },
  {
   "cell_type": "code",
   "execution_count": 331,
   "metadata": {},
   "outputs": [],
   "source": [
    "model = Word2Vec.load(\"word2vec.model\")"
   ]
  },
  {
   "cell_type": "code",
   "execution_count": 337,
   "metadata": {},
   "outputs": [
    {
     "name": "stdout",
     "output_type": "stream",
     "text": [
      "most similar -\n",
      "[('cavity', 0.7063941359519958), ('enclosed', 0.7008175849914551), ('tore', 0.6935725808143616), ('struggled', 0.6855576038360596), ('within', 0.6818519234657288), ('vein', 0.6286081075668335), ('touching', 0.6118664741516113), ('membrane', 0.6079121828079224), ('calling', 0.6061397194862366), ('ground', 0.6056966781616211), ('salt', 0.603046178817749), ('beat', 0.6027724742889404), ('suffering', 0.5942800045013428), ('reaching', 0.5937288403511047), ('chest', 0.5930249691009521), ('nail', 0.5855275392532349), ('pain', 0.584815502166748), ('spill', 0.5824955701828003), ('pour', 0.5774224996566772), ('thump', 0.5772312879562378)]\n",
      "least similar -\n",
      "[('since', 0.3627702295780182), ('name', 0.35345545411109924), ('every', 0.34711915254592896), ('story', 0.3111506402492523), ('done', 0.3104442358016968), ('named', 0.29746103286743164), ('today', 0.28473275899887085), ('thorn', 0.28110671043395996), ('clow', 0.2771095931529999), ('day', 0.27353301644325256), ('old', 0.27004918456077576), ('brother', 0.26996588706970215), ('quietly', 0.268235445022583), ('month', 0.26766085624694824), ('last', 0.2653365135192871), ('”', 0.2547955811023712), ('point', 0.2538449764251709), ('prominence', 0.2501337230205536), ('year', 0.2456359714269638), ('three', 0.24018341302871704)]\n"
     ]
    },
    {
     "name": "stderr",
     "output_type": "stream",
     "text": [
      "/Library/Frameworks/Python.framework/Versions/3.6/lib/python3.6/site-packages/gensim/matutils.py:737: FutureWarning: Conversion of the second argument of issubdtype from `int` to `np.signedinteger` is deprecated. In future, it will be treated as `np.int64 == np.dtype(int).type`.\n",
      "  if np.issubdtype(vec.dtype, np.int):\n",
      "/Library/Frameworks/Python.framework/Versions/3.6/lib/python3.6/site-packages/ipykernel_launcher.py:6: DeprecationWarning: Call to deprecated `__getitem__` (Method will be removed in 4.0.0, use self.wv.__getitem__() instead).\n",
      "  \n"
     ]
    }
   ],
   "source": [
    "#interesting words: water, grass, flower, wind, wave, sun, rain, lightning, storm, star, airborne, warm, \n",
    "#life, dream, wish, bone, brain, heart, spirit\n",
    "word = \"heart\"\n",
    "num_words = 20\n",
    "most_sim = model.wv.most_similar(positive=[word], topn = num_words)\n",
    "most_sim_2 = model.wv.similar_by_vector(model[word], topn=num_words)\n",
    "least_sim = model.wv.most_similar(negative=[word], topn = num_words)\n",
    "print(\"most similar -\")\n",
    "print(most_sim)\n",
    "print(\"least similar -\")\n",
    "print(least_sim)"
   ]
  },
  {
   "cell_type": "code",
   "execution_count": null,
   "metadata": {},
   "outputs": [],
   "source": []
  },
  {
   "cell_type": "code",
   "execution_count": null,
   "metadata": {},
   "outputs": [],
   "source": []
  }
 ],
 "metadata": {
  "kernelspec": {
   "display_name": "Python 3",
   "language": "python",
   "name": "python3"
  },
  "language_info": {
   "codemirror_mode": {
    "name": "ipython",
    "version": 3
   },
   "file_extension": ".py",
   "mimetype": "text/x-python",
   "name": "python",
   "nbconvert_exporter": "python",
   "pygments_lexer": "ipython3",
   "version": "3.6.1"
  }
 },
 "nbformat": 4,
 "nbformat_minor": 2
}
