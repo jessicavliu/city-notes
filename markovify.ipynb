{
 "cells": [
  {
   "cell_type": "code",
   "execution_count": 1,
   "metadata": {},
   "outputs": [
    {
     "name": "stdout",
     "output_type": "stream",
     "text": [
      "true\n"
     ]
    }
   ],
   "source": [
    "import markovify\n",
    "\n",
    "# Get raw text as string.\n",
    "with open(\"poetry.txt\", encoding=\"utf-8\") as f:\n",
    "    text = f.read()\n",
    "\n",
    "if \"star\" in text:\n",
    "    print(\"true\")\n",
    "    \n",
    "# Build the model.\n",
    "text_model = markovify.Text(text)\n",
    "model_json = text_model.to_json()\n",
    "# In theory, here you'd save the JSON to disk, and then read it back later.\n",
    "\n",
    "reconstituted_model = markovify.Text.from_json(model_json)"
   ]
  },
  {
   "cell_type": "code",
   "execution_count": 2,
   "metadata": {},
   "outputs": [],
   "source": [
    "import string\n",
    "import re"
   ]
  },
  {
   "cell_type": "code",
   "execution_count": 3,
   "metadata": {},
   "outputs": [
    {
     "name": "stdout",
     "output_type": "stream",
     "text": [
      "1.\n",
      "Pale on the shelf Of the ocean-winds and sea-foam, Take thy beak from out the stain, Recalled his men, My servants true shall hear.\n",
      "Branch of Jesse's son, was once our own?\n",
      "Stepped across the fields are bright, Enamell'd richly with silken screens In litters rode the sole source of innocent merriment, Of innocent Bohemian delights, And more despair is in no frame of man For happiness, and fuller with each returning year, Two years, Three years.\n",
      "Down and sleep, And their udders swell with pride, for to renge; But it is unseen, Or columbines, in purple garments dressed, To give her frenzy had broken a fond husband breathes a cloud of dust That heart I'll give you convincing proofs That this presents to my rest, My children lie And doze, or, if they'd been respected, While I defile thy breast And kissed it before, And doubtless blushed to hear the sound, And no man that sent it, I took them by the waves.\n",
      "Fall out, which Fancy seems ever to the ring.\n",
      "Air and its light to kindle strife, We turn to thee on the borders wide of earth, Wasn't gifted much with book and told Aegisthus, who killed your son.\n",
      "Shone in her leafy screen, Tread more than smoke on the light, Crumpled petals baby white, Just to waste their bulk Along the English men shall be meted with its bloody end; yea, even proud Satan's very self complete?\n",
      "Rose hyaline, couleur des yeux rogues, fleur hypocrite, fleur du silence.\n",
      "Winter is the palace walk; Nor winks the gold of the moon.\n",
      "Crimson and yellow, too, Your feet and his drawers; And now sharp blows, a heavy heart, for divers ends, Some ministering swords for ledgers, and stoves.\n",
      "Dry thine eyes, as if a new passion reigns!\n",
      "Slip meek as man to be riven By some false story.\n",
      "Aside she moved to the Trojans; with triumphant mien And awful Rhadamanthus rules the giant next him, how He smiled!\n",
      "Speak to me, And our light lips like a shining flower.\n",
      "Brightly the sun go down, And the strong wind of March Had eased themselves in turn shall rise Bearing the western glory in the midst of the neck.\n",
      "\n",
      "2.\n",
      "Pale Science, searching by the corner I put a gilt dagger, Hung low down Before him reverent, and there Stuck fast.\n",
      "Branch of Jesse's son, was of armes ye must know, To lairs beyond the mouldering place!\n",
      "Stepped across the sky; Let ruling angels from on high, and to me From Thee, my hiding-place.\n",
      "Down came the brown hair with sleet-like ashes filled, Thy breath is warm and full sore; They hung the shield, There kept my charms and herbs alone their honest aims oppose, Why so the Trojans; they when love Gets overnear to doting; Keen lips, that fondly show it people stare; I must be reconciled.\n",
      "Fall gently, gently, and patted her son's request, Rose from their hurry see the Brick Bat take his joyous and Sweet: There's a playground on the desolated fields Of Phthia the deep-soil'd, possess'd By the peaceful soil.\n",
      "Air is the Lord of Lords!\n",
      "Shone full against the truth My speech shall hearken.”\n",
      "Rose couleur de la panza mísero siervo que la edad avara...\n",
      "Winter on foul with blood, Yet still thou standest.\n",
      "Crimson parrots above him Dropped their acorn-shells upon him, and thee, Mary; To-morrow eve, more stilly laid, My couch may be doubted whether lightning were abroad; I saw you in the black deep-furrow'd path Cut before thee one Who, wander'd from the beak Issued in some new play, and wrapped her in France?\n",
      "Dry chips, old shoes, rags, grease, and hide now none takes part among men, both those men Than, turning round, Laid their bright hair?\n",
      "Slip the flinty snow; From coral rocks and pools, And blots all out.\n",
      "Aside the frozen plain.\n",
      "Speak truly, Queen, that I clos'd Both ears against the shearing sheds, the roar And the first and only vanish away That sunny landscape from life's sorrows rove In cheerful hope Shall thence, it may be; And he rolls his foamy track!\n",
      "Brightly hath the holier unison Of my lost soul that sees him again.\n",
      "\n",
      "3.\n",
      "Pale night upon my brow; Soft as the corps for the Avalon Of her perfections; of the sassafrass leaves hang dripping fast dripping away all night.\n",
      "Branch of Jesse's tree in a shoe, And the City when you came o'er it Ingeborg he took; So here fair blooms the eglantine.\n",
      "Stepped across the dark beneath; And we must be brought to this dear benefactor of the trumpet's sound Commands me to resign!\n",
      "Down the aisle, followed by Crescimbeni, Quadrio, and Millot, are detected in his image blest!\n",
      "Fall in along the silver gray And grass-grown tower builded when Confusion cursed the senseless clay; One, ere the sting of a throne, And so compounded that a dashing charger, On a blue turret in his charge, but never till this happy hour, When the cold strand and sea-waves stood anear, hard by the strumpet wind!\n",
      "Air and earth to fairyland.\n",
      "Shone full at heart Once more behov'd him with caressing, And yet the freshness of his body.\n",
      "Rose Love looked blank, Life rosier were she but pity; she Pitied him from his crystal waves to a day, wise poets tell, Some poems smoothly read.\n",
      "Winter is here for mastery, and to let me see if it lived, and left like waves that shiver, And thaws deliver The roaring cannons then were glittering.\n",
      "Crimson and gold; Strike on the bough.\n",
      "Dry your sweet eyes of warriors none more than the trade and commerce.\n",
      "Slip loose thy wing, nightingale sing, To profit by a speech as in his mud.\n",
      "Aside he throws with the satisfying thought That I may not be dry.\n",
      "Speak thou, and breathe free; How fair her glorious eyes.\n",
      "Brightly the glittering vesture flew.\n",
      "\n",
      "4.\n",
      "Pale memories gather round you, And rested there, Looking only at my tongue can tell.\n",
      "Branch of Jesse's royal son of Charles Martel, Or find a treasure,--can he use the cleaning-rod; And hours and days will usher in the lane, Go, Betty, and shivers.\n",
      "Stepped across the sky, The bloody sunset's embers, While the tamarind-tree is whispering thoughts of heavenly Love I am as one sees all the paths in lone splendour hung aloft out of breath; Yea, and if thou canst walk among them.\n",
      "Down God's ways With no rough blast may sweep And gently here to sweat and the slave, America?\n",
      "Fall on me, and pain, the calm, cold accents shook With bloody grasp his dirty socks in; His lingo is confined within its glistening arms, To guard thee well.\n",
      "Air coin'd to pay nobly, as a friend: but O the wailing of music, touching all he has, if any of these realms.\n",
      "Shone she a flaming red As he snuffs the track Of dark disaster like a hawk screams or a dream by that unknown shore, Their fury makes an evil hour; For I will see if out of West Dumpet.\n",
      "Rose whom I mene it here, Soars the hero’s head, Bends o’er the sea, Upon its brow.\n",
      "Winter passed, and I stand and calmly slept till morning’s glow.\n",
      "Crimson and cream Before that contrast Of life before him runs, And many a son of Peleus bore not, but thus much show thee how, in days to wed My mother, inattentive oft, the worse flock.\n",
      "Dry thine eyes, Clear'd from trees, When twilight on bleak lone lands, Spread out; and grateful for thy sake.\n",
      "Slip meek as a whole earth's unbelief, One soul with glee; The East is West, Blows in and about, By the window, and your kisses I surely had we in future at rest through wonder into joy?\n",
      "Aside the frozen steeps, Like wind it sweeps over the plain, Without a speck or stain; And such continual issue.\n",
      "Speak to his God and our swords they quietly had layde, That not a Around her sleep as if from thee send Some high gold embassage To teach in song Give vent to grief.\n",
      "Brightly the glittering showers; The clouds unfabled shifted shapes, And a suit and silks of the hearth stone every night I rested, with her came the shrilling cricket calls.\n",
      "\n",
      "5.\n",
      "Pale cloisterers, have you done.\n",
      "Branch of Jesse's son, was of greater worshipers.\n",
      "Stepped straight out Week after week, here hidden away, Of the sun's hot eye, With large and brown, above the Scho, To man she singles, leaving dark All else!\n",
      "Down fall Their hard hands cannot be concluded in that uplifted eye, That seem'd a horrid sound, Descend where nitre, coal, and mud, And know if the town we range, Whereto the maid I love the spring.\n",
      "Fall on the margin hither, thither, Seeks herself a while did feed my fads, They give not back When this blest divorce she owed, For thou art by them in Death's arms has snatched From him, and the ground overpower'd, The weary tasks of love, My truest turtle dove; Bid her come and go; To-day I've eight or eleven syllables.\n",
      "Air is sweet from little ill:-- Under the brindled beast for its King.\n",
      "Shone too their men every one.\n"
     ]
    },
    {
     "name": "stdout",
     "output_type": "stream",
     "text": [
      "Rose papale, rose arrosée des mains blanches, de minces bras.\n",
      "Winter on the Pabeng River, A grave that holds to heaven again delivered him into rest.\n",
      "Crimson and green haunts-- Trying her little silver tune.\n",
      "Dry them, soft Pharisee, that sit'st at meat Who have left is near his net, Does, to prepare Things needful for males with their daughters Stop in wonderment the Basques Shout aloud and hurried on; You're not afraid, Into the desert, Winking golden eyes And heartless lilies--GOD gives strength to crush the heart of the slain, And Daṇḍak wood will go, You are too weak, mine age is in pain, My pain will grow--Who then shall our God forever!\n",
      "Slip meek as man dreams of youth was wise-- I was myself before preaching or law; where love shall tame the tempest's breath Not less for that hidden in my e'e: Now welcome the hour.\n",
      "Aside the Devil himself?\n",
      "Speak plainly, Sir, have you found the wisdom of his estate; Where men were armed of inner fires, Unbled in us never to return.\n",
      "Brightly shines upon the middle of the battle: no debate Could shake them from Clorinda's ire: When, as we sung!\n",
      "\n"
     ]
    }
   ],
   "source": [
    "#sub pebble with rock, metronome with tick\n",
    "water_arr = [\"surrounded\", \"watched\", \"icy\", \"casting\", \"rising\", \"blood\", \"branch\", \"caught\", \"stone\", \"sank\", \"fell\", \"gravel\", \"controlling\", \"foam\", \"tick\", \"stream\", \"silver\", \"sink\", \"descended\"]\n",
    "\n",
    "#sub toe with foot, collapsed with shatter, tentatively with faltering\n",
    "grass_arr = [\"ash\", \"foot\", \"iron\", \"ring\", \"frost\", \"branch\", \"fairy\", \"gently\", \"hung\", \"table\", \"thin\", \"blanket\", \"underneath\", \"red\", \"rock\", \"tall\",\n",
    "\"shatter\", \"faltering\",\"shoe\", \"dried\"]\n",
    "\n",
    "#sub stalk with stem, peeled with skin, rustle with rustled, envelope with cover, \n",
    "flower_arr = [\"stem\", \"skin\", \"rustled\", \"hung\", \"cover\", \"casting\", \"frost\", \"gravel\", \"parting\", \"gently\", \"folded\", \"sticking\", \"sadness\", \"smoothed\", \"dyed\", \"filled\", \"layer\"]\n",
    "\n",
    "#sub downstairs for down, collapsed for fall, \n",
    "wind_arr = ['pale', 'branch', 'stepped', 'down', 'fall', 'air', 'shone', 'rose', 'winter', 'crimson', 'dry', 'slip', 'aside', 'speak', 'brightly']\n",
    "\n",
    "#sub patch for land, musubi for 'divine link', cafe for 'tea house'\n",
    "lightning_arr = ['sweep', 'oil', 'land', 'bitterly', 'sparkling', 'divine', 'link', 'escaping', 'melancholy', 'humid', 'tea', 'house']\n",
    "\n",
    "\n",
    "#generate a poem from core words\n",
    "def gen_poems(arr, num_poems):\n",
    "    for i in range(num_poems):\n",
    "        print(str(i+1) + \".\")\n",
    "        for bloom in arr:\n",
    "            print(reconstituted_model.make_sentence_with_start(beginning=bloom.capitalize(), strict=\"false\"))\n",
    "        print()\n",
    "\n",
    "def gen_line(word):\n",
    "    print(reconstituted_model.make_sentence_with_start(beginning=word.capitalize(), strict=\"false\"))\n",
    "        \n",
    "num_poems = 5\n",
    "arr = wind_arr\n",
    "#gen_line(\"link\")\n",
    "gen_poems(arr, num_poems)"
   ]
  },
  {
   "cell_type": "code",
   "execution_count": null,
   "metadata": {},
   "outputs": [],
   "source": []
  }
 ],
 "metadata": {
  "kernelspec": {
   "display_name": "Python 3",
   "language": "python",
   "name": "python3"
  },
  "language_info": {
   "codemirror_mode": {
    "name": "ipython",
    "version": 3
   },
   "file_extension": ".py",
   "mimetype": "text/x-python",
   "name": "python",
   "nbconvert_exporter": "python",
   "pygments_lexer": "ipython3",
   "version": "3.6.1"
  }
 },
 "nbformat": 4,
 "nbformat_minor": 2
}
